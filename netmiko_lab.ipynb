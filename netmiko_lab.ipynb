{
 "cells": [
  {
   "cell_type": "markdown",
   "metadata": {},
   "source": [
    "## Netmiko Lab Exercise\n",
    "\n",
    "### Building blocks of Netmiko python script\n",
    "\n",
    "In this lab exercise you will learn how a basic netmiko python script is constructed. Think of it like a Lego block, first we will start with basic building blocks and quickly iterate through it to build complex programming logics. \n",
    "\n",
    "Let’s dive into the basic building blocks.\n",
    "\n",
    "First we have to import the Netmiko connection libraries\n",
    "```python\n",
    "from netmiko import Netmiko\n",
    "```\n",
    "The connection parameters are collected in a Python dictionary. The connection parameters provide Netmiko with everything it needs to create the SSH connection. In the below example we have shown how to connect to a IOS device, if it is a NXOS device, simply change the device type to 'device_type': 'cisco_nxos'.\n",
    "\n",
    "```python\n",
    "ios1 = {\n",
    "    'device_type': 'cisco_ios',\n",
    "    'ip': '192.168.1.1',\n",
    "    'username': 'cisco',\n",
    "    'password': 'cisco',\n",
    "}\n",
    "```\n",
    "Netmiko is a function that calls the necessary connection parameters and device type (cisco_ios, cisco_xr, cisco_nxos, etc.) Once connection parameters are loaded, the script will launch a SSH connection to login into the device.\n",
    "\n",
    "```python\n",
    "net_connect = Netmiko(**ios1)\n",
    "```\n",
    ".send_command() method is used to send show commands over the channel and receive the output back. Here, we are reading the output of ‘show version’ command and storing it in a variable named 'output'.\n",
    "\n",
    "```python\n",
    "output = net_connect.send_command('show version’)\n",
    "```\n",
    "Using the .send_config_set() method, we can program the network device to enter into configuration mode and make configuration changes. After executing the config_commands the script will exit the configuration mode.\n",
    "\n",
    "```python\n",
    "output = net_connect.send_config_set(config_commands)\n",
    "```\n",
    "\n",
    "We can send either only one command or multiple lines of commands by converting it into a simple list. If we are sending a big configuration, it is recommended to use the .send_config_from_file() method. \n",
    "\n",
    "```python\n",
    "output = net_connect.send_config_from_file('more_config')\n",
    "```\n",
    "\n",
    "All of the session output is stored in an output variable and then printed out in the screen for our reference. \n",
    "\n",
    "For more information on the all the connection methods avaialvle with Netmiko, pls refer the documentation\n",
    "\n",
    "__[Netmiko Introduction](https://pynet.twb-tech.com/blog/automation/netmiko.html)__\n",
    "\n",
    "__[Netmiko Documentation](https://netmiko.readthedocs.io/en/latest/classes/base_connection.html)__\n"
   ]
  },
  {
   "cell_type": "markdown",
   "metadata": {},
   "source": [
    "### Excercise 1:\n",
    "Write a simple netmiko script to collect and print show command output from the remote IOS device. A sample script is given below, try collecting few diffrent show command output from the remote device.\n",
    "\n",
    "Note: Verify you can connect to the lab devices via SSH before you run the script. You have to setup the lab devices on your laptop or remote VIRL / Netsim servers."
   ]
  },
  {
   "cell_type": "code",
   "execution_count": null,
   "metadata": {},
   "outputs": [],
   "source": [
    "#!/usr/bin/env python\n",
    "from netmiko import Netmiko\n",
    "\n",
    "# SSH Connection Details\n",
    "ios1 = {\n",
    "    'device_type': 'cisco_ios',\n",
    "    'ip': '192.168.1.1',\n",
    "    'username': 'cisco',\n",
    "    'password': 'cisco',\n",
    "}\n",
    "\n",
    "# Establish SSH to device and run show command\n",
    "net_connect = Netmiko(**ios1)\n",
    "output = net_connect.send_command('show version')\n",
    "print (output)"
   ]
  },
  {
   "cell_type": "markdown",
   "metadata": {},
   "source": [
    "### Excercise 2: \n",
    "Write a simple netmiko script to configure the IOS device with \"logging host 1.1.1.1\" on the remote IOS device.\n",
    "\n",
    "Note: You can resuse the previous script to reduce extra typing. Instead of net_connect.send_command() you have to use net_connect.send_config_set(). Rest of the script will remain the same."
   ]
  },
  {
   "cell_type": "code",
   "execution_count": null,
   "metadata": {},
   "outputs": [],
   "source": []
  },
  {
   "cell_type": "markdown",
   "metadata": {},
   "source": [
    "### Excercise 3: \n",
    "Write a netmiko script to verify the logging host was configured properly. "
   ]
  },
  {
   "cell_type": "code",
   "execution_count": null,
   "metadata": {},
   "outputs": [],
   "source": []
  },
  {
   "cell_type": "markdown",
   "metadata": {},
   "source": [
    "### Excercise 4: \n",
    "Write a netmiko script to configure two routers with 'logging host 1.1.1.1' command . \n",
    "\n",
    "Note: Reuse the same base script that you developed from previous excercises. To configure multiple devices, we have to create multiple SSH connection profiles and add it to a list. Then add a for loop to iterate through the connection profiles and make config changes to the IOS devices.\n",
    "\n",
    "```python\n",
    "device_list = [ios1, ios2]\n",
    "\n",
    "for device in device_list:\n",
    "    ** Netmiko config code block **\n",
    "```"
   ]
  },
  {
   "cell_type": "code",
   "execution_count": null,
   "metadata": {},
   "outputs": [],
   "source": []
  },
  {
   "cell_type": "markdown",
   "metadata": {},
   "source": [
    "### Excercise 5: \n",
    "\n",
    "Write a netmiko script to\n",
    "> 1. Load device ip details from a text file named 'device_list'\n",
    "> 2. Load configuration commands from a text file named 'config_commands'\n",
    "> 3. Create a for loop to iterate through each device in the device_list and send the configuration commands given in the text file. Use the .send_config_from_file method.\n",
    "> 4. Collect all the output and print it out\n",
    "\n",
    "```python\n",
    "with open('file_name') as f:\n",
    "    device_list = f.read().splitlines()\n",
    "\n",
    "for devices in device_list:\n",
    "    ** Netmiko config code block **    \n",
    "```"
   ]
  },
  {
   "cell_type": "code",
   "execution_count": null,
   "metadata": {},
   "outputs": [],
   "source": []
  },
  {
   "cell_type": "markdown",
   "metadata": {},
   "source": [
    "### Excercise 6: \n",
    "\n",
    "Now we have a solid understanding of how to write basic scripts. Next step is to make our code modular. For that we should remove all of the hardcoded variables from the script. The variable needs to be given by user who runs the script or from a file. \n",
    "\n",
    "Write a netmiko script to\n",
    "> 1. Load the device ip details from a text file named 'device_list'\n",
    "> 2. Load the configuration commands from a text file named 'config_commands'\n",
    "> 3. Create a variable named 'username' and ask the user to enter the username details\n",
    "> 4. Create a variable named 'password' and ask the user to enter the password\n",
    "> 5. Use the getpass() module to encrypt the user provided password\n",
    "> 6. Pass the the ip, username, password to the SSH connection details\n",
    "> 7. Create a for loop to iterate through each device in the device_list and send the configuration commands. Use the .send_config_from_file method.\n",
    "> 8. Add comments in each code block for better documentation\n",
    "> 9. Collect all the output and print it"
   ]
  },
  {
   "cell_type": "code",
   "execution_count": null,
   "metadata": {},
   "outputs": [],
   "source": [
    "       "
   ]
  },
  {
   "cell_type": "markdown",
   "metadata": {},
   "source": [
    "### Excercise 7: \n",
    "\n",
    "In this excercise we will enable error handling for our scripts. The idea behind error handling is to catch any exceptions that occurs during the execution of the script. Without error handling when an exception is detected the python script terminates and reports error.  \n",
    "\n",
    "Write a netmiko script to\n",
    "> 1. Add try and except block to the code\n",
    "> 2. Find all the diffrent exceptions that can be triggered during the exceution. For example catch the timeout, reachability, wrong user credential errors, etc.,\n",
    "> 3. Test the exceptions, try providing wrong ip in device_list or wrong username and password to check whether the scripts catch and report the exceptions\n"
   ]
  },
  {
   "cell_type": "code",
   "execution_count": null,
   "metadata": {
    "scrolled": true
   },
   "outputs": [],
   "source": []
  }
 ],
 "metadata": {
  "kernelspec": {
   "display_name": "Python 3",
   "language": "python",
   "name": "python3"
  },
  "language_info": {
   "codemirror_mode": {
    "name": "ipython",
    "version": 3
   },
   "file_extension": ".py",
   "mimetype": "text/x-python",
   "name": "python",
   "nbconvert_exporter": "python",
   "pygments_lexer": "ipython3",
   "version": "3.7.2"
  }
 },
 "nbformat": 4,
 "nbformat_minor": 2
}
